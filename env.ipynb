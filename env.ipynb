{
 "cells": [
  {
   "cell_type": "code",
   "execution_count": 1,
   "metadata": {},
   "outputs": [
    {
     "name": "stdout",
     "output_type": "stream",
     "text": [
      "/Users/jbreen/.virtualenvs/data-metal-3.11/bin/python\n"
     ]
    }
   ],
   "source": [
    "!which python"
   ]
  },
  {
   "cell_type": "code",
   "execution_count": 2,
   "metadata": {},
   "outputs": [
    {
     "name": "stdout",
     "output_type": "stream",
     "text": [
      "CLICOLOR=1\n",
      "CLICOLOR_FORCE=1\n",
      "CLOUDSDK_HOME=/opt/homebrew/Caskroom/google-cloud-sdk/latest/google-cloud-sdk\n",
      "CLOUDSDK_METRICS_ENVIRONMENT=cloudcode.vscode\n",
      "CLOUDSDK_METRICS_ENVIRONMENT_VERSION=2.7.1\n",
      "COMMAND_MODE=unix2003\n",
      "CONDA_EXE=/opt/homebrew/Caskroom/mambaforge/base/bin/conda\n",
      "CONDA_PYTHON_EXE=/opt/homebrew/Caskroom/mambaforge/base/bin/python\n",
      "CONDA_SHLVL=0\n",
      "CPPFLAGS=-I/opt/homebrew/opt/openjdk@17/include -I/opt/homebrew/opt/ruby/include -I/opt/homebrew/include\n",
      "DISPLAY=/private/tmp/com.apple.launchd.BjMBb9IR5n/org.xquartz:0\n",
      "EDITOR=emacs -nw\n",
      "ELECTRON_RUN_AS_NODE=1\n",
      "EXTENSION_KIT_EXTENSION_TYPE=2\n",
      "FORCE_COLOR=1\n",
      "FRED_API_KEY=84513a8569a13a04678e143d5d21e949\n",
      "GIT_PAGER=cat\n",
      "HOME=/Users/jbreen\n",
      "HOMEBREW_CELLAR=/opt/homebrew/Cellar\n",
      "HOMEBREW_FORCE_BREWED_CURL=1\n",
      "HOMEBREW_PREFIX=/opt/homebrew\n",
      "HOMEBREW_REPOSITORY=/opt/homebrew\n",
      "INFOPATH=/opt/homebrew/share/info:\n",
      "JAVA_HOME=/opt/sdkman/candidates/java/current\n",
      "KUBECONFIG=/Users/jbreen/.kube/config\n",
      "LC_CTYPE=UTF-8\n",
      "LDFLAGS=-L/opt/homebrew/opt/ruby/lib -L/opt/homebrew/lib\n",
      "LESS=-R\n",
      "LOGNAME=jbreen\n",
      "LSCOLORS=exfxcxdxbxegedabagacad\n",
      "MANPATH=/opt/nvm/versions/node/v20.9.0/share/man:/opt/homebrew/share/man::\n",
      "MPLBACKEND=module://matplotlib_inline.backend_inline\n",
      "MallocNanoZone=0\n",
      "MallocSpaceEfficient=1\n",
      "NVM_BIN=/opt/nvm/versions/node/v20.9.0/bin\n",
      "NVM_CD_FLAGS=-q\n",
      "NVM_DIR=/opt/nvm\n",
      "NVM_INC=/opt/nvm/versions/node/v20.9.0/include/node\n",
      "OLDPWD=/Users/jbreen/Downloads\n",
      "OLLAMA_MODELS=/opt/ollama/models\n",
      "ORIGINAL_XDG_CURRENT_DESKTOP=undefined\n",
      "PAGER=cat\n",
      "PATH=/Users/jbreen/.virtualenvs/data-metal-3.11/bin:/opt/pyenv/shims:/Users/jbreen/.gem/ruby/2.6.0/bin:/opt/nvm/versions/node/v20.9.0/bin:/opt/sdkman/candidates/spark/current/bin:/opt/sdkman/candidates/java/current/bin:/opt/homebrew/opt/ruby/bin:/opt/homebrew/opt/gnu-sed/libexec/gnubin:/opt/homebrew/bin:/opt/homebrew/sbin:/usr/local/bin:/usr/local/sbin:/opt/homebrew/Caskroom/mambaforge/base/condabin:/opt/homebrew/share/google-cloud-sdk/bin:/opt/homebrew/bin:/opt/homebrew/sbin:/usr/local/bin:/System/Cryptexes/App/usr/bin:/usr/bin:/bin:/usr/sbin:/sbin:/var/run/com.apple.security.cryptexd/codex.system/bootstrap/usr/local/bin:/var/run/com.apple.security.cryptexd/codex.system/bootstrap/usr/bin:/var/run/com.apple.security.cryptexd/codex.system/bootstrap/usr/appleinternal/bin:/opt/X11/bin:/Library/Apple/usr/bin:/usr/local/MacGPG2/bin:/usr/local/share/dotnet:~/.dotnet/tools:/Applications/quarto/bin:/Users/jbreen/.docker/bin:/Users/jbreen/google-cloud-sdk/bin\n",
      "PKG_CONFIG_PATH=/opt/homebrew/opt/ruby/lib/pkgconfig\n",
      "PS1=(data-metal-3.11) [\\u@\\h \\W]\\$ \n",
      "PWD=/Users/jbreen/Downloads\n",
      "PYDEVD_IPYTHON_COMPATIBLE_DEBUGGING=1\n",
      "PYDEVD_USE_FRAME_EVAL=NO\n",
      "PYENV_ROOT=/opt/pyenv\n",
      "PYENV_SHELL=zsh\n",
      "PYENV_VIRTUALENVWRAPPER_PREFER_PYVENV=true\n",
      "PYSPARK_PYTHON=python3\n",
      "PYTHONIOENCODING=utf-8\n",
      "PYTHONUNBUFFERED=1\n",
      "SDKMAN_CANDIDATES_API=https://api.sdkman.io/2\n",
      "SDKMAN_CANDIDATES_DIR=/opt/sdkman/candidates\n",
      "SDKMAN_DIR=/opt/sdkman\n",
      "SDKMAN_PLATFORM=darwinarm64\n",
      "SHELL=/opt/homebrew/bin/zsh\n",
      "SHLVL=1\n",
      "SPARK_HOME=/opt/homebrew/Cellar/apache-spark/3.5.0/libexec\n",
      "SPARK_LOCAL_HOSTNAME=localhost\n",
      "SSH_AUTH_SOCK=/private/tmp/com.apple.launchd.0kmPIQSzyh/Listeners\n",
      "TA_INCLUDE_PATH=/opt/homebrew/opt/ta-lib/include\n",
      "TA_LIBRARY_PATH=/opt/homebrew/opt/ta-lib/lib\n",
      "TERM=xterm-color\n",
      "TMPDIR=/var/folders/l9/s8c3r0vj67j2ckgmnlgv23580000gn/T/\n",
      "USER=jbreen\n",
      "VIRTUALENVWRAPPER_SCRIPT=/opt/homebrew/bin/virtualenvwrapper.sh\n",
      "VIRTUAL_ENV=/Users/jbreen/.virtualenvs/data-metal-3.11\n",
      "VIRTUAL_ENV_DISABLE_PROMPT=1\n",
      "VIRTUAL_ENV_PROMPT=data-metal-3.11\n",
      "VISUAL=emacs -nw\n",
      "VSCODE_AMD_ENTRYPOINT=vs/workbench/api/node/extensionHostProcess\n",
      "VSCODE_CODE_CACHE_PATH=/Users/jbreen/Library/Application Support/VSCodium/CachedData/0f99737786f756fe93e2a6e5d8146c46f4a53a4f\n",
      "VSCODE_CRASH_REPORTER_PROCESS_TYPE=extensionHost\n",
      "VSCODE_CWD=/\n",
      "VSCODE_HANDLES_UNCAUGHT_ERRORS=true\n",
      "VSCODE_IPC_HOOK=/Users/jbreen/Library/Application Support/VSCodium/1.88-main.sock\n",
      "VSCODE_NLS_CONFIG={\"locale\":\"en-us\",\"osLocale\":\"en-us\",\"availableLanguages\":{},\"_languagePackSupport\":true}\n",
      "VSCODE_PID=9030\n",
      "XPC_FLAGS=0x0\n",
      "XPC_SERVICE_NAME=0\n",
      "ZSH=/Users/jbreen/.oh-my-zsh\n",
      "_=/usr/bin/env\n",
      "_VIRTUALENVWRAPPER_API= mkvirtualenv rmvirtualenv lsvirtualenv showvirtualenv workon add2virtualenv cdsitepackages cdvirtualenv lssitepackages toggleglobalsitepackages cpvirtualenv setvirtualenvproject mkproject cdproject mktmpenv wipeenv allvirtualenv\n",
      "__CFBundleIdentifier=com.vscodium\n",
      "__CF_USER_TEXT_ENCODING=0x1F5:0x0:0x0\n"
     ]
    }
   ],
   "source": [
    "!env | sort"
   ]
  },
  {
   "cell_type": "code",
   "execution_count": null,
   "metadata": {},
   "outputs": [],
   "source": []
  }
 ],
 "metadata": {
  "kernelspec": {
   "display_name": "Python 3",
   "language": "python",
   "name": "python3"
  },
  "language_info": {
   "codemirror_mode": {
    "name": "ipython",
    "version": 3
   },
   "file_extension": ".py",
   "mimetype": "text/x-python",
   "name": "python",
   "nbconvert_exporter": "python",
   "pygments_lexer": "ipython3",
   "version": "3.11.9"
  }
 },
 "nbformat": 4,
 "nbformat_minor": 2
}
